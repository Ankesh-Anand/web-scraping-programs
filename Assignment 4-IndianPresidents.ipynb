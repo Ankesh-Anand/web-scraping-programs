{
 "cells": [
  {
   "cell_type": "code",
   "execution_count": 1,
   "id": "16eb8977",
   "metadata": {},
   "outputs": [],
   "source": [
    "import pandas as pd\n",
    "from bs4 import BeautifulSoup\n",
    "import requests\n"
   ]
  },
  {
   "cell_type": "code",
   "execution_count": 4,
   "id": "ad0f70b7",
   "metadata": {},
   "outputs": [],
   "source": [
    "def president(url):\n",
    "    president_name=[]\n",
    "    term=[]\n",
    "    page= requests.get(url)\n",
    "    soup=BeautifulSoup(page.content)\n",
    "    for i in soup.find_all('div', class_=\"presidentListing\"):    \n",
    "        president_name.append(i.text.split('\\n')[1].split('(')[0])\n",
    "        term.append(i.text.split('\\n')[2].split(':')[1])\n",
    "    df=pd.DataFrame({\"President\":president_name, 'Term': term})\n",
    "    print(df.set_index('President'))"
   ]
  },
  {
   "cell_type": "code",
   "execution_count": 5,
   "id": "8cf9889b",
   "metadata": {},
   "outputs": [
    {
     "name": "stdout",
     "output_type": "stream",
     "text": [
      "                                                                            Term\n",
      "President                                                                       \n",
      "Shri Ram Nath Kovind                             25 July, 2017 to 25 July, 2022 \n",
      "Shri Pranab Mukherjee                            25 July, 2012 to 25 July, 2017 \n",
      "Smt Pratibha Devisingh Patil                     25 July, 2007 to 25 July, 2012 \n",
      "DR. A.P.J. Abdul Kalam                           25 July, 2002 to 25 July, 2007 \n",
      "Shri K. R. Narayanan                             25 July, 1997 to 25 July, 2002 \n",
      "Dr Shankar Dayal Sharma                          25 July, 1992 to 25 July, 1997 \n",
      "Shri R Venkataraman                              25 July, 1987 to 25 July, 1992 \n",
      "Giani Zail Singh                                 25 July, 1982 to 25 July, 1987 \n",
      "Shri Neelam Sanjiva Reddy                        25 July, 1977 to 25 July, 1982 \n",
      "Dr. Fakhruddin Ali Ahmed                    24 August, 1974 to 11 February, 1977\n",
      "Shri Varahagiri Venkata Giri    3 May, 1969 to 20 July, 1969 and 24 August, 1...\n",
      "Dr. Zakir Husain                                     13 May, 1967 to 3 May, 1969\n",
      "Dr. Sarvepalli Radhakrishnan                        13 May, 1962 to 13 May, 1967\n",
      "Dr. Rajendra Prasad                             26 January, 1950 to 13 May, 1962\n"
     ]
    }
   ],
   "source": [
    "url ='https://presidentofindia.nic.in/former-presidents.htm'\n",
    "president(url)"
   ]
  },
  {
   "cell_type": "code",
   "execution_count": null,
   "id": "9e32198c",
   "metadata": {},
   "outputs": [],
   "source": []
  }
 ],
 "metadata": {
  "kernelspec": {
   "display_name": "Python 3 (ipykernel)",
   "language": "python",
   "name": "python3"
  },
  "language_info": {
   "codemirror_mode": {
    "name": "ipython",
    "version": 3
   },
   "file_extension": ".py",
   "mimetype": "text/x-python",
   "name": "python",
   "nbconvert_exporter": "python",
   "pygments_lexer": "ipython3",
   "version": "3.9.12"
  }
 },
 "nbformat": 4,
 "nbformat_minor": 5
}
