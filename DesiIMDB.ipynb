{
 "cells": [
  {
   "cell_type": "code",
   "execution_count": 1,
   "id": "a85e5396",
   "metadata": {},
   "outputs": [],
   "source": [
    "from bs4 import BeautifulSoup\n",
    "import requests\n",
    "import pandas as pd"
   ]
  },
  {
   "cell_type": "code",
   "execution_count": 4,
   "id": "ea2d0f24",
   "metadata": {},
   "outputs": [],
   "source": [
    "url='https://www.imdb.com/list/ls009997493/'"
   ]
  },
  {
   "cell_type": "code",
   "execution_count": 7,
   "id": "dede84d0",
   "metadata": {},
   "outputs": [],
   "source": [
    "def desiIMDB(url_add):\n",
    "    r=requests.get(url)\n",
    "    soup=BeautifulSoup(r.content)\n",
    "    name=[]\n",
    "    rating=[]\n",
    "    year_of_release=[]\n",
    "    detail=soup.find('div',class_='ipl-rating-star small')\n",
    "    details_movie=soup.find_all('h3',class_='lister-item-header')\n",
    "    for details in details_movie:\n",
    "        name.append(details.text.split(\"\\n\")[2])\n",
    "        year_of_release.append(details.text.split(\"\\n\")[3].replace(\"(\",\"\").replace(\")\",\"\"))\n",
    "    details_rating=soup.find_all('div',class_='ipl-rating-star small')\n",
    "    for details in details_rating:\n",
    "        rating.append(details.text.split(\"\\n\")[8])\n",
    "    lst=list(zip(name,year_of_release,rating))\n",
    "    df=pd.DataFrame(lst,columns=['Name','Year of Release','Rating'])\n",
    "    print(df)\n",
    "\n"
   ]
  },
  {
   "cell_type": "code",
   "execution_count": 8,
   "id": "3c8d546e",
   "metadata": {},
   "outputs": [
    {
     "name": "stdout",
     "output_type": "stream",
     "text": [
      "                      Name Year of Release Rating\n",
      "0          Rang De Basanti            2006    8.1\n",
      "1                 3 Idiots            2009    8.4\n",
      "2         Taare Zameen Par            2007    8.4\n",
      "3           Dil Chahta Hai            2001    8.1\n",
      "4   Swades: We, the People            2004    8.2\n",
      "..                     ...             ...    ...\n",
      "95             Wake Up Sid            2009    7.6\n",
      "96                Rangeela            1995    7.4\n",
      "97     Shatranj Ke Khilari            1977    7.5\n",
      "98      Pyaar Ka Punchnama            2011    7.6\n",
      "99           Ek Hasina Thi            2004    7.5\n",
      "\n",
      "[100 rows x 3 columns]\n"
     ]
    }
   ],
   "source": [
    "desiIMDB(url)"
   ]
  },
  {
   "cell_type": "code",
   "execution_count": null,
   "id": "9cbb643b",
   "metadata": {},
   "outputs": [],
   "source": []
  }
 ],
 "metadata": {
  "kernelspec": {
   "display_name": "Python 3 (ipykernel)",
   "language": "python",
   "name": "python3"
  },
  "language_info": {
   "codemirror_mode": {
    "name": "ipython",
    "version": 3
   },
   "file_extension": ".py",
   "mimetype": "text/x-python",
   "name": "python",
   "nbconvert_exporter": "python",
   "pygments_lexer": "ipython3",
   "version": "3.9.12"
  }
 },
 "nbformat": 4,
 "nbformat_minor": 5
}
