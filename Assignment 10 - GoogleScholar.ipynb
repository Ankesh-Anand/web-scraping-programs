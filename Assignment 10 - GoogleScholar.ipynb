{
 "cells": [
  {
   "cell_type": "code",
   "execution_count": 8,
   "id": "9c890d5b",
   "metadata": {},
   "outputs": [],
   "source": [
    "import requests \n",
    "import bs4\n",
    "from bs4 import BeautifulSoup as bs\n",
    "import pandas as pd\n",
    "\n"
   ]
  },
  {
   "cell_type": "code",
   "execution_count": 9,
   "id": "b9ae49a0",
   "metadata": {},
   "outputs": [],
   "source": [
    "def googleScholar(url):\n",
    "    page = requests.get(url)\n",
    "    content= bs(page.content)\n",
    "    rank=[]\n",
    "    publication=[]\n",
    "    h5_index=[]\n",
    "    h5_median=[]\n",
    "\n",
    "    for i in content.find_all('td', class_=\"gsc_mvt_p\"):\n",
    "        rank.append(i.text)  \n",
    "\n",
    "    for i in content.find_all('td', class_=\"gsc_mvt_t\"):\n",
    "        publication.append(i.text)\n",
    "\n",
    "    for i in content.find_all('a', class_=\"gs_ibl gsc_mp_anchor\"):\n",
    "        h5_index.append(i.text)\n",
    "\n",
    "    for i in content.find_all('span', class_=\"gs_ibl gsc_mp_anchor\"):\n",
    "        h5_median.append(i.text)\n",
    "\n",
    "    df= pd.DataFrame({'Ranking':rank, 'Publication':publication, 'h5-index': h5_index[:100], 'h5-median':h5_median})\n",
    "    df.set_index('Ranking', inplace=True)\n",
    "    print(df)"
   ]
  },
  {
   "cell_type": "code",
   "execution_count": 11,
   "id": "0b939490",
   "metadata": {},
   "outputs": [
    {
     "name": "stdout",
     "output_type": "stream",
     "text": [
      "                                               Publication h5-index h5-median\n",
      "Ranking                                                                      \n",
      "1.                                                  Nature      444       667\n",
      "2.                     The New England Journal of Medicine      432       780\n",
      "3.                                                 Science      401       614\n",
      "4.       IEEE/CVF Conference on Computer Vision and Pat...      389       627\n",
      "5.                                              The Lancet      354       635\n",
      "...                                                    ...      ...       ...\n",
      "96.                           Journal of Business Research      145       233\n",
      "97.                                       Molecular Cancer      145       209\n",
      "98.                                                Sensors      145       201\n",
      "99.                                  Nature Climate Change      144       228\n",
      "100.                       IEEE Internet of Things Journal      144       212\n",
      "\n",
      "[100 rows x 3 columns]\n"
     ]
    }
   ],
   "source": [
    "url = 'https://scholar.google.com/citations?view_op=top_venues&hl=en'\n",
    "googleScholar(url)"
   ]
  },
  {
   "cell_type": "code",
   "execution_count": null,
   "id": "13fec93e",
   "metadata": {},
   "outputs": [],
   "source": []
  }
 ],
 "metadata": {
  "kernelspec": {
   "display_name": "Python 3 (ipykernel)",
   "language": "python",
   "name": "python3"
  },
  "language_info": {
   "codemirror_mode": {
    "name": "ipython",
    "version": 3
   },
   "file_extension": ".py",
   "mimetype": "text/x-python",
   "name": "python",
   "nbconvert_exporter": "python",
   "pygments_lexer": "ipython3",
   "version": "3.9.12"
  }
 },
 "nbformat": 4,
 "nbformat_minor": 5
}
