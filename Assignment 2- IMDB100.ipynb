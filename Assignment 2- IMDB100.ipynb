{
 "cells": [
  {
   "cell_type": "code",
   "execution_count": 3,
   "id": "d6e07b97",
   "metadata": {},
   "outputs": [],
   "source": [
    "from bs4 import BeautifulSoup\n",
    "import requests\n",
    "import pandas as pd\n",
    "\n",
    "url='https://www.imdb.com/list/ls091520106/'\n"
   ]
  },
  {
   "cell_type": "code",
   "execution_count": 8,
   "id": "c603391c",
   "metadata": {},
   "outputs": [],
   "source": [
    "def imdb(url_add):\n",
    "    url = url_add\n",
    "    r=requests.get(url)\n",
    "    soup=BeautifulSoup(r.content)\n",
    "    name=[]\n",
    "    rating=[]\n",
    "    year_of_release=[]\n",
    "    detail=soup.find('div',class_='ipl-rating-star small')\n",
    "    details_movie=soup.find_all('h3',class_='lister-item-header')\n",
    "    for details in details_movie:\n",
    "        name.append(details.text.split(\"\\n\")[2])\n",
    "        year_of_release.append(details.text.split(\"\\n\")[3].replace(\"(\",\"\").replace(\")\",\"\"))\n",
    "\n",
    "    details_rating=soup.find_all('div',class_='ipl-rating-star small')\n",
    "    for details in details_rating:\n",
    "        rating.append(details.text.split(\"\\n\")[8])\n",
    "\n",
    "    lst=list(zip(name,year_of_release,rating))\n",
    "    df=pd.DataFrame(lst,columns=['Title','Years','Rating'])\n",
    "    print(df.set_index('Title'))"
   ]
  },
  {
   "cell_type": "code",
   "execution_count": 9,
   "id": "c6c24fdf",
   "metadata": {},
   "outputs": [
    {
     "name": "stdout",
     "output_type": "stream",
     "text": [
      "                                    Years Rating\n",
      "Title                                           \n",
      "The Shawshank Redemption             1994    9.3\n",
      "The Godfather                        1972    9.2\n",
      "The Godfather Part II                1974      9\n",
      "The Dark Knight                      2008      9\n",
      "12 Angry Men                         1957      9\n",
      "...                                   ...    ...\n",
      "North by Northwest                   1959    8.3\n",
      "A Clockwork Orange                   1971    8.3\n",
      "Snatch                               2000    8.2\n",
      "Le fabuleux destin d'Amélie Poulain  2001    8.3\n",
      "The Kid                              1921    8.3\n",
      "\n",
      "[100 rows x 2 columns]\n"
     ]
    }
   ],
   "source": [
    "imdb(url)"
   ]
  },
  {
   "cell_type": "code",
   "execution_count": null,
   "id": "1e4bfff2",
   "metadata": {},
   "outputs": [],
   "source": []
  }
 ],
 "metadata": {
  "kernelspec": {
   "display_name": "Python 3 (ipykernel)",
   "language": "python",
   "name": "python3"
  },
  "language_info": {
   "codemirror_mode": {
    "name": "ipython",
    "version": 3
   },
   "file_extension": ".py",
   "mimetype": "text/x-python",
   "name": "python",
   "nbconvert_exporter": "python",
   "pygments_lexer": "ipython3",
   "version": "3.9.12"
  }
 },
 "nbformat": 4,
 "nbformat_minor": 5
}
